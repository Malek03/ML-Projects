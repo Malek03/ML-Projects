{
 "cells": [
  {
   "cell_type": "markdown",
   "metadata": {},
   "source": [
    "# Naive Bayes Classifier By: Eng/Mohammed Sweileh & Eng/Mohammed Nashwan"
   ]
  },
  {
   "cell_type": "markdown",
   "metadata": {},
   "source": [
    "## Load Lib"
   ]
  },
  {
   "cell_type": "code",
   "execution_count": 1,
   "metadata": {},
   "outputs": [],
   "source": [
    "import pandas as pd\n",
    "from sklearn.feature_extraction.text import TfidfVectorizer\n",
    "from sklearn.model_selection import train_test_split\n",
    "from sklearn.naive_bayes import MultinomialNB\n",
    "from sklearn.metrics import accuracy_score, classification_report,recall_score,f1_score,confusion_matrix,precision_score\n",
    "import matplotlib.pyplot as plt\n",
    "import seaborn as sns\n",
    "from sklearn.metrics import confusion_matrix\n",
    "import numpy as np"
   ]
  },
  {
   "cell_type": "markdown",
   "metadata": {},
   "source": [
    "## Load Dataset"
   ]
  },
  {
   "cell_type": "code",
   "execution_count": 2,
   "metadata": {},
   "outputs": [],
   "source": [
    "dataset=pd.read_csv('Reviews.csv')"
   ]
  },
  {
   "cell_type": "markdown",
   "metadata": {},
   "source": [
    "## Know Your Data"
   ]
  },
  {
   "cell_type": "code",
   "execution_count": 3,
   "metadata": {},
   "outputs": [
    {
     "data": {
      "text/plain": [
       "(27538, 2)"
      ]
     },
     "execution_count": 3,
     "metadata": {},
     "output_type": "execute_result"
    }
   ],
   "source": [
    "dataset.shape"
   ]
  },
  {
   "cell_type": "code",
   "execution_count": 4,
   "metadata": {},
   "outputs": [
    {
     "name": "stdout",
     "output_type": "stream",
     "text": [
      "<class 'pandas.core.frame.DataFrame'>\n",
      "RangeIndex: 27538 entries, 0 to 27537\n",
      "Data columns (total 2 columns):\n",
      " #   Column  Non-Null Count  Dtype \n",
      "---  ------  --------------  ----- \n",
      " 0   Text    27538 non-null  object\n",
      " 1   label   27538 non-null  int64 \n",
      "dtypes: int64(1), object(1)\n",
      "memory usage: 430.4+ KB\n"
     ]
    }
   ],
   "source": [
    "dataset.info()"
   ]
  },
  {
   "cell_type": "code",
   "execution_count": 5,
   "metadata": {},
   "outputs": [
    {
     "data": {
      "text/html": [
       "<div>\n",
       "<style scoped>\n",
       "    .dataframe tbody tr th:only-of-type {\n",
       "        vertical-align: middle;\n",
       "    }\n",
       "\n",
       "    .dataframe tbody tr th {\n",
       "        vertical-align: top;\n",
       "    }\n",
       "\n",
       "    .dataframe thead th {\n",
       "        text-align: right;\n",
       "    }\n",
       "</style>\n",
       "<table border=\"1\" class=\"dataframe\">\n",
       "  <thead>\n",
       "    <tr style=\"text-align: right;\">\n",
       "      <th></th>\n",
       "      <th>label</th>\n",
       "    </tr>\n",
       "  </thead>\n",
       "  <tbody>\n",
       "    <tr>\n",
       "      <th>count</th>\n",
       "      <td>27538.000000</td>\n",
       "    </tr>\n",
       "    <tr>\n",
       "      <th>mean</th>\n",
       "      <td>0.500000</td>\n",
       "    </tr>\n",
       "    <tr>\n",
       "      <th>std</th>\n",
       "      <td>0.500009</td>\n",
       "    </tr>\n",
       "    <tr>\n",
       "      <th>min</th>\n",
       "      <td>0.000000</td>\n",
       "    </tr>\n",
       "    <tr>\n",
       "      <th>25%</th>\n",
       "      <td>0.000000</td>\n",
       "    </tr>\n",
       "    <tr>\n",
       "      <th>50%</th>\n",
       "      <td>0.500000</td>\n",
       "    </tr>\n",
       "    <tr>\n",
       "      <th>75%</th>\n",
       "      <td>1.000000</td>\n",
       "    </tr>\n",
       "    <tr>\n",
       "      <th>max</th>\n",
       "      <td>1.000000</td>\n",
       "    </tr>\n",
       "  </tbody>\n",
       "</table>\n",
       "</div>"
      ],
      "text/plain": [
       "              label\n",
       "count  27538.000000\n",
       "mean       0.500000\n",
       "std        0.500009\n",
       "min        0.000000\n",
       "25%        0.000000\n",
       "50%        0.500000\n",
       "75%        1.000000\n",
       "max        1.000000"
      ]
     },
     "execution_count": 5,
     "metadata": {},
     "output_type": "execute_result"
    }
   ],
   "source": [
    "dataset.describe()"
   ]
  },
  {
   "cell_type": "code",
   "execution_count": 6,
   "metadata": {},
   "outputs": [
    {
     "data": {
      "text/html": [
       "<div>\n",
       "<style scoped>\n",
       "    .dataframe tbody tr th:only-of-type {\n",
       "        vertical-align: middle;\n",
       "    }\n",
       "\n",
       "    .dataframe tbody tr th {\n",
       "        vertical-align: top;\n",
       "    }\n",
       "\n",
       "    .dataframe thead th {\n",
       "        text-align: right;\n",
       "    }\n",
       "</style>\n",
       "<table border=\"1\" class=\"dataframe\">\n",
       "  <thead>\n",
       "    <tr style=\"text-align: right;\">\n",
       "      <th></th>\n",
       "      <th>Text</th>\n",
       "      <th>label</th>\n",
       "    </tr>\n",
       "  </thead>\n",
       "  <tbody>\n",
       "    <tr>\n",
       "      <th>0</th>\n",
       "      <td>شي جميل ويفر رصيد الهاتف النقال ويسرع الطلب</td>\n",
       "      <td>1</td>\n",
       "    </tr>\n",
       "    <tr>\n",
       "      <th>1</th>\n",
       "      <td>أفصل موقع</td>\n",
       "      <td>1</td>\n",
       "    </tr>\n",
       "    <tr>\n",
       "      <th>2</th>\n",
       "      <td>حلوه تطبيق</td>\n",
       "      <td>1</td>\n",
       "    </tr>\n",
       "    <tr>\n",
       "      <th>3</th>\n",
       "      <td>شىء سىء جدا</td>\n",
       "      <td>0</td>\n",
       "    </tr>\n",
       "    <tr>\n",
       "      <th>4</th>\n",
       "      <td>رائع افتحوا فرع بالاردن وبعدين انا بطلب منكم د...</td>\n",
       "      <td>1</td>\n",
       "    </tr>\n",
       "  </tbody>\n",
       "</table>\n",
       "</div>"
      ],
      "text/plain": [
       "                                                Text  label\n",
       "0        شي جميل ويفر رصيد الهاتف النقال ويسرع الطلب      1\n",
       "1                                          أفصل موقع      1\n",
       "2                                         حلوه تطبيق      1\n",
       "3                                        شىء سىء جدا      0\n",
       "4  رائع افتحوا فرع بالاردن وبعدين انا بطلب منكم د...      1"
      ]
     },
     "execution_count": 6,
     "metadata": {},
     "output_type": "execute_result"
    }
   ],
   "source": [
    "dataset.head()"
   ]
  },
  {
   "cell_type": "code",
   "execution_count": 7,
   "metadata": {},
   "outputs": [
    {
     "data": {
      "text/html": [
       "<div>\n",
       "<style scoped>\n",
       "    .dataframe tbody tr th:only-of-type {\n",
       "        vertical-align: middle;\n",
       "    }\n",
       "\n",
       "    .dataframe tbody tr th {\n",
       "        vertical-align: top;\n",
       "    }\n",
       "\n",
       "    .dataframe thead th {\n",
       "        text-align: right;\n",
       "    }\n",
       "</style>\n",
       "<table border=\"1\" class=\"dataframe\">\n",
       "  <thead>\n",
       "    <tr style=\"text-align: right;\">\n",
       "      <th></th>\n",
       "      <th>Text</th>\n",
       "      <th>label</th>\n",
       "    </tr>\n",
       "  </thead>\n",
       "  <tbody>\n",
       "    <tr>\n",
       "      <th>27533</th>\n",
       "      <td>اباكم تسوولي تخفيص</td>\n",
       "      <td>1</td>\n",
       "    </tr>\n",
       "    <tr>\n",
       "      <th>27534</th>\n",
       "      <td>روعه بس يحتاج تحديث لمطاعم كل منطقة</td>\n",
       "      <td>1</td>\n",
       "    </tr>\n",
       "    <tr>\n",
       "      <th>27535</th>\n",
       "      <td>لا يعمل التطبيق في الاردن</td>\n",
       "      <td>0</td>\n",
       "    </tr>\n",
       "    <tr>\n",
       "      <th>27536</th>\n",
       "      <td>تطبيق اكثر من رائع يستاهل الخمسه</td>\n",
       "      <td>1</td>\n",
       "    </tr>\n",
       "    <tr>\n",
       "      <th>27537</th>\n",
       "      <td>انصحكم بتنزيله حبيت البرنامج مررررة</td>\n",
       "      <td>1</td>\n",
       "    </tr>\n",
       "  </tbody>\n",
       "</table>\n",
       "</div>"
      ],
      "text/plain": [
       "                                      Text  label\n",
       "27533                   اباكم تسوولي تخفيص      1\n",
       "27534  روعه بس يحتاج تحديث لمطاعم كل منطقة      1\n",
       "27535            لا يعمل التطبيق في الاردن      0\n",
       "27536     تطبيق اكثر من رائع يستاهل الخمسه      1\n",
       "27537  انصحكم بتنزيله حبيت البرنامج مررررة      1"
      ]
     },
     "execution_count": 7,
     "metadata": {},
     "output_type": "execute_result"
    }
   ],
   "source": [
    "dataset.tail()"
   ]
  },
  {
   "cell_type": "markdown",
   "metadata": {},
   "source": [
    "## Clean Data"
   ]
  },
  {
   "cell_type": "code",
   "execution_count": 8,
   "metadata": {},
   "outputs": [
    {
     "data": {
      "text/plain": [
       "0"
      ]
     },
     "execution_count": 8,
     "metadata": {},
     "output_type": "execute_result"
    }
   ],
   "source": [
    "dataset.duplicated().sum()"
   ]
  },
  {
   "cell_type": "code",
   "execution_count": 9,
   "metadata": {},
   "outputs": [
    {
     "data": {
      "text/plain": [
       "Text     0\n",
       "label    0\n",
       "dtype: int64"
      ]
     },
     "execution_count": 9,
     "metadata": {},
     "output_type": "execute_result"
    }
   ],
   "source": [
    "dataset.isna().sum()"
   ]
  },
  {
   "cell_type": "code",
   "execution_count": 10,
   "metadata": {},
   "outputs": [],
   "source": [
    "dataset.drop_duplicates(inplace=True)"
   ]
  },
  {
   "cell_type": "code",
   "execution_count": 11,
   "metadata": {},
   "outputs": [],
   "source": [
    "# تنظيف البيانات\n",
    "dataset.dropna(inplace=True)"
   ]
  },
  {
   "cell_type": "code",
   "execution_count": 12,
   "metadata": {},
   "outputs": [
    {
     "data": {
      "text/plain": [
       "Text     0\n",
       "label    0\n",
       "dtype: int64"
      ]
     },
     "execution_count": 12,
     "metadata": {},
     "output_type": "execute_result"
    }
   ],
   "source": [
    "dataset.isna().sum()"
   ]
  },
  {
   "cell_type": "code",
   "execution_count": 13,
   "metadata": {},
   "outputs": [
    {
     "data": {
      "text/plain": [
       "0"
      ]
     },
     "execution_count": 13,
     "metadata": {},
     "output_type": "execute_result"
    }
   ],
   "source": [
    "dataset.duplicated().sum()"
   ]
  },
  {
   "cell_type": "code",
   "execution_count": 14,
   "metadata": {},
   "outputs": [],
   "source": [
    "dataset=dataset.sample(frac=1,random_state=42).reset_index(drop=True)"
   ]
  },
  {
   "cell_type": "markdown",
   "metadata": {},
   "source": [
    "## balanced_data"
   ]
  },
  {
   "cell_type": "code",
   "execution_count": 15,
   "metadata": {},
   "outputs": [
    {
     "data": {
      "text/plain": [
       "label\n",
       "1    13769\n",
       "0    13769\n",
       "Name: count, dtype: int64"
      ]
     },
     "execution_count": 15,
     "metadata": {},
     "output_type": "execute_result"
    }
   ],
   "source": [
    "value_counts=dataset['label'].value_counts()\n",
    "value_counts"
   ]
  },
  {
   "cell_type": "code",
   "execution_count": 16,
   "metadata": {},
   "outputs": [
    {
     "data": {
      "image/png": "[encoded data removed]",
      "text/plain": [
       "<Figure size 640x480 with 1 Axes>"
      ]
     },
     "metadata": {},
     "output_type": "display_data"
    }
   ],
   "source": [
    "colors = ['#005500','#FF0011']\n",
    "plt.bar(value_counts.index,value_counts.values,color=colors)\n",
    "plt.title('Text Label')\n",
    "plt.xlabel('Labels')\n",
    "plt.xticks(ticks=[0, 1],labels=['Negative', 'Postive'],fontsize=12)\n",
    "plt.ylabel('Text')\n",
    "plt.show()"
   ]
  },
  {
   "cell_type": "markdown",
   "metadata": {},
   "source": [
    "## Feature Extraction"
   ]
  },
  {
   "cell_type": "code",
   "execution_count": 17,
   "metadata": {},
   "outputs": [],
   "source": [
    "# تحويل النصوص إلى تمثيل عددي باستخدام TF-IDF\n",
    "vectorizer = TfidfVectorizer(max_features=5000)\n",
    "X = vectorizer.fit_transform(dataset['Text'])\n",
    "y = dataset['label']"
   ]
  },
  {
   "cell_type": "markdown",
   "metadata": {},
   "source": [
    "## Split DataSet Train and Test"
   ]
  },
  {
   "cell_type": "code",
   "execution_count": 18,
   "metadata": {},
   "outputs": [],
   "source": [
    "# تقسيم البيانات\n",
    "X_train, X_test, y_train, y_test = train_test_split(X, y, test_size=0.2, random_state=40)"
   ]
  },
  {
   "cell_type": "code",
   "execution_count": 19,
   "metadata": {},
   "outputs": [
    {
     "name": "stdout",
     "output_type": "stream",
     "text": [
      "عدد العينات في مجموعة التدريب: 22030\n",
      "عدد العينات في مجموعة الاختبار: 5508\n",
      "********************\n",
      "عدد العينات في مجموعة التدريب: 22030\n",
      "عدد العينات في مجموعة الاختبار: 5508\n"
     ]
    }
   ],
   "source": [
    "# الآن لديك بيانات متوازنة جاهزة للتدريب\n",
    "print(\"عدد العينات في مجموعة التدريب:\", X_train.shape[0])\n",
    "print(\"عدد العينات في مجموعة الاختبار:\", X_test.shape[0])\n",
    "print('*'*20)\n",
    "print(\"عدد العينات في مجموعة التدريب:\", y_train.shape[0])\n",
    "print(\"عدد العينات في مجموعة الاختبار:\", y_test.shape[0])"
   ]
  },
  {
   "cell_type": "markdown",
   "metadata": {},
   "source": [
    "## Naive Bayes Train"
   ]
  },
  {
   "cell_type": "code",
   "execution_count": 20,
   "metadata": {},
   "outputs": [
    {
     "data": {
      "text/html": [
       "<style>#sk-container-id-1 {\n",
       "  /* Definition of color scheme common for light and dark mode */\n",
       "  --sklearn-color-text: #000;\n",
       "  --sklearn-color-text-muted: #666;\n",
       "  --sklearn-color-line: gray;\n",
       "  /* Definition of color scheme for unfitted estimators */\n",
       "  --sklearn-color-unfitted-level-0: #fff5e6;\n",
       "  --sklearn-color-unfitted-level-1: #f6e4d2;\n",
       "  --sklearn-color-unfitted-level-2: #ffe0b3;\n",
       "  --sklearn-color-unfitted-level-3: chocolate;\n",
       "  /* Definition of color scheme for fitted estimators */\n",
       "  --sklearn-color-fitted-level-0: #f0f8ff;\n",
       "  --sklearn-color-fitted-level-1: #d4ebff;\n",
       "  --sklearn-color-fitted-level-2: #b3dbfd;\n",
       "  --sklearn-color-fitted-level-3: cornflowerblue;\n",
       "\n",
       "  /* Specific color for light theme */\n",
       "  --sklearn-color-text-on-default-background: var(--sg-text-color, var(--theme-code-foreground, var(--jp-content-font-color1, black)));\n",
       "  --sklearn-color-background: var(--sg-background-color, var(--theme-background, var(--jp-layout-color0, white)));\n",
       "  --sklearn-color-border-box: var(--sg-text-color, var(--theme-code-foreground, var(--jp-content-font-color1, black)));\n",
       "  --sklearn-color-icon: #696969;\n",
       "\n",
       "  @media (prefers-color-scheme: dark) {\n",
       "    /* Redefinition of color scheme for dark theme */\n",
       "    --sklearn-color-text-on-default-background: var(--sg-text-color, var(--theme-code-foreground, var(--jp-content-font-color1, white)));\n",
       "    --sklearn-color-background: var(--sg-background-color, var(--theme-background, var(--jp-layout-color0, #111)));\n",
       "    --sklearn-color-border-box: var(--sg-text-color, var(--theme-code-foreground, var(--jp-content-font-color1, white)));\n",
       "    --sklearn-color-icon: #878787;\n",
       "  }\n",
       "}\n",
       "\n",
       "#sk-container-id-1 {\n",
       "  color: var(--sklearn-color-text);\n",
       "}\n",
       "\n",
       "#sk-container-id-1 pre {\n",
       "  padding: 0;\n",
       "}\n",
       "\n",
       "#sk-container-id-1 input.sk-hidden--visually {\n",
       "  border: 0;\n",
       "  clip: rect(1px 1px 1px 1px);\n",
       "  clip: rect(1px, 1px, 1px, 1px);\n",
       "  height: 1px;\n",
       "  margin: -1px;\n",
       "  overflow: hidden;\n",
       "  padding: 0;\n",
       "  position: absolute;\n",
       "  width: 1px;\n",
       "}\n",
       "\n",
       "#sk-container-id-1 div.sk-dashed-wrapped {\n",
       "  border: 1px dashed var(--sklearn-color-line);\n",
       "  margin: 0 0.4em 0.5em 0.4em;\n",
       "  box-sizing: border-box;\n",
       "  padding-bottom: 0.4em;\n",
       "  background-color: var(--sklearn-color-background);\n",
       "}\n",
       "\n",
       "#sk-container-id-1 div.sk-container {\n",
       "  /* jupyter's `normalize.less` sets `[hidden] { display: none; }`\n",
       "     but bootstrap.min.css set `[hidden] { display: none !important; }`\n",
       "     so we also need the `!important` here to be able to override the\n",
       "     default hidden behavior on the sphinx rendered scikit-learn.org.\n",
       "     See: https://github.com/scikit-learn/scikit-learn/issues/21755 */\n",
       "  display: inline-block !important;\n",
       "  position: relative;\n",
       "}\n",
       "\n",
       "#sk-container-id-1 div.sk-text-repr-fallback {\n",
       "  display: none;\n",
       "}\n",
       "\n",
       "div.sk-parallel-item,\n",
       "div.sk-serial,\n",
       "div.sk-item {\n",
       "  /* draw centered vertical line to link estimators */\n",
       "  background-image: linear-gradient(var(--sklearn-color-text-on-default-background), var(--sklearn-color-text-on-default-background));\n",
       "  background-size: 2px 100%;\n",
       "  background-repeat: no-repeat;\n",
       "  background-position: center center;\n",
       "}\n",
       "\n",
       "/* Parallel-specific style estimator block */\n",
       "\n",
       "#sk-container-id-1 div.sk-parallel-item::after {\n",
       "  content: \"\";\n",
       "  width: 100%;\n",
       "  border-bottom: 2px solid var(--sklearn-color-text-on-default-background);\n",
       "  flex-grow: 1;\n",
       "}\n",
       "\n",
       "#sk-container-id-1 div.sk-parallel {\n",
       "  display: flex;\n",
       "  align-items: stretch;\n",
       "  justify-content: center;\n",
       "  background-color: var(--sklearn-color-background);\n",
       "  position: relative;\n",
       "}\n",
       "\n",
       "#sk-container-id-1 div.sk-parallel-item {\n",
       "  display: flex;\n",
       "  flex-direction: column;\n",
       "}\n",
       "\n",
       "#sk-container-id-1 div.sk-parallel-item:first-child::after {\n",
       "  align-self: flex-end;\n",
       "  width: 50%;\n",
       "}\n",
       "\n",
       "#sk-container-id-1 div.sk-parallel-item:last-child::after {\n",
       "  align-self: flex-start;\n",
       "  width: 50%;\n",
       "}\n",
       "\n",
       "#sk-container-id-1 div.sk-parallel-item:only-child::after {\n",
       "  width: 0;\n",
       "}\n",
       "\n",
       "/* Serial-specific style estimator block */\n",
       "\n",
       "#sk-container-id-1 div.sk-serial {\n",
       "  display: flex;\n",
       "  flex-direction: column;\n",
       "  align-items: center;\n",
       "  background-color: var(--sklearn-color-background);\n",
       "  padding-right: 1em;\n",
       "  padding-left: 1em;\n",
       "}\n",
       "\n",
       "\n",
       "/* Toggleable style: style used for estimator/Pipeline/ColumnTransformer box that is\n",
       "clickable and can be expanded/collapsed.\n",
       "- Pipeline and ColumnTransformer use this feature and define the default style\n",
       "- Estimators will overwrite some part of the style using the `sk-estimator` class\n",
       "*/\n",
       "\n",
       "/* Pipeline and ColumnTransformer style (default) */\n",
       "\n",
       "#sk-container-id-1 div.sk-toggleable {\n",
       "  /* Default theme specific background. It is overwritten whether we have a\n",
       "  specific estimator or a Pipeline/ColumnTransformer */\n",
       "  background-color: var(--sklearn-color-background);\n",
       "}\n",
       "\n",
       "/* Toggleable label */\n",
       "#sk-container-id-1 label.sk-toggleable__label {\n",
       "  cursor: pointer;\n",
       "  display: flex;\n",
       "  width: 100%;\n",
       "  margin-bottom: 0;\n",
       "  padding: 0.5em;\n",
       "  box-sizing: border-box;\n",
       "  text-align: center;\n",
       "  align-items: start;\n",
       "  justify-content: space-between;\n",
       "  gap: 0.5em;\n",
       "}\n",
       "\n",
       "#sk-container-id-1 label.sk-toggleable__label .caption {\n",
       "  font-size: 0.6rem;\n",
       "  font-weight: lighter;\n",
       "  color: var(--sklearn-color-text-muted);\n",
       "}\n",
       "\n",
       "#sk-container-id-1 label.sk-toggleable__label-arrow:before {\n",
       "  /* Arrow on the left of the label */\n",
       "  content: \"▸\";\n",
       "  float: left;\n",
       "  margin-right: 0.25em;\n",
       "  color: var(--sklearn-color-icon);\n",
       "}\n",
       "\n",
       "#sk-container-id-1 label.sk-toggleable__label-arrow:hover:before {\n",
       "  color: var(--sklearn-color-text);\n",
       "}\n",
       "\n",
       "/* Toggleable content - dropdown */\n",
       "\n",
       "#sk-container-id-1 div.sk-toggleable__content {\n",
       "  max-height: 0;\n",
       "  max-width: 0;\n",
       "  overflow: hidden;\n",
       "  text-align: left;\n",
       "  /* unfitted */\n",
       "  background-color: var(--sklearn-color-unfitted-level-0);\n",
       "}\n",
       "\n",
       "#sk-container-id-1 div.sk-toggleable__content.fitted {\n",
       "  /* fitted */\n",
       "  background-color: var(--sklearn-color-fitted-level-0);\n",
       "}\n",
       "\n",
       "#sk-container-id-1 div.sk-toggleable__content pre {\n",
       "  margin: 0.2em;\n",
       "  border-radius: 0.25em;\n",
       "  color: var(--sklearn-color-text);\n",
       "  /* unfitted */\n",
       "  background-color: var(--sklearn-color-unfitted-level-0);\n",
       "}\n",
       "\n",
       "#sk-container-id-1 div.sk-toggleable__content.fitted pre {\n",
       "  /* unfitted */\n",
       "  background-color: var(--sklearn-color-fitted-level-0);\n",
       "}\n",
       "\n",
       "#sk-container-id-1 input.sk-toggleable__control:checked~div.sk-toggleable__content {\n",
       "  /* Expand drop-down */\n",
       "  max-height: 200px;\n",
       "  max-width: 100%;\n",
       "  overflow: auto;\n",
       "}\n",
       "\n",
       "#sk-container-id-1 input.sk-toggleable__control:checked~label.sk-toggleable__label-arrow:before {\n",
       "  content: \"▾\";\n",
       "}\n",
       "\n",
       "/* Pipeline/ColumnTransformer-specific style */\n",
       "\n",
       "#sk-container-id-1 div.sk-label input.sk-toggleable__control:checked~label.sk-toggleable__label {\n",
       "  color: var(--sklearn-color-text);\n",
       "  background-color: var(--sklearn-color-unfitted-level-2);\n",
       "}\n",
       "\n",
       "#sk-container-id-1 div.sk-label.fitted input.sk-toggleable__control:checked~label.sk-toggleable__label {\n",
       "  background-color: var(--sklearn-color-fitted-level-2);\n",
       "}\n",
       "\n",
       "/* Estimator-specific style */\n",
       "\n",
       "/* Colorize estimator box */\n",
       "#sk-container-id-1 div.sk-estimator input.sk-toggleable__control:checked~label.sk-toggleable__label {\n",
       "  /* unfitted */\n",
       "  background-color: var(--sklearn-color-unfitted-level-2);\n",
       "}\n",
       "\n",
       "#sk-container-id-1 div.sk-estimator.fitted input.sk-toggleable__control:checked~label.sk-toggleable__label {\n",
       "  /* fitted */\n",
       "  background-color: var(--sklearn-color-fitted-level-2);\n",
       "}\n",
       "\n",
       "#sk-container-id-1 div.sk-label label.sk-toggleable__label,\n",
       "#sk-container-id-1 div.sk-label label {\n",
       "  /* The background is the default theme color */\n",
       "  color: var(--sklearn-color-text-on-default-background);\n",
       "}\n",
       "\n",
       "/* On hover, darken the color of the background */\n",
       "#sk-container-id-1 div.sk-label:hover label.sk-toggleable__label {\n",
       "  color: var(--sklearn-color-text);\n",
       "  background-color: var(--sklearn-color-unfitted-level-2);\n",
       "}\n",
       "\n",
       "/* Label box, darken color on hover, fitted */\n",
       "#sk-container-id-1 div.sk-label.fitted:hover label.sk-toggleable__label.fitted {\n",
       "  color: var(--sklearn-color-text);\n",
       "  background-color: var(--sklearn-color-fitted-level-2);\n",
       "}\n",
       "\n",
       "/* Estimator label */\n",
       "\n",
       "#sk-container-id-1 div.sk-label label {\n",
       "  font-family: monospace;\n",
       "  font-weight: bold;\n",
       "  display: inline-block;\n",
       "  line-height: 1.2em;\n",
       "}\n",
       "\n",
       "#sk-container-id-1 div.sk-label-container {\n",
       "  text-align: center;\n",
       "}\n",
       "\n",
       "/* Estimator-specific */\n",
       "#sk-container-id-1 div.sk-estimator {\n",
       "  font-family: monospace;\n",
       "  border: 1px dotted var(--sklearn-color-border-box);\n",
       "  border-radius: 0.25em;\n",
       "  box-sizing: border-box;\n",
       "  margin-bottom: 0.5em;\n",
       "  /* unfitted */\n",
       "  background-color: var(--sklearn-color-unfitted-level-0);\n",
       "}\n",
       "\n",
       "#sk-container-id-1 div.sk-estimator.fitted {\n",
       "  /* fitted */\n",
       "  background-color: var(--sklearn-color-fitted-level-0);\n",
       "}\n",
       "\n",
       "/* on hover */\n",
       "#sk-container-id-1 div.sk-estimator:hover {\n",
       "  /* unfitted */\n",
       "  background-color: var(--sklearn-color-unfitted-level-2);\n",
       "}\n",
       "\n",
       "#sk-container-id-1 div.sk-estimator.fitted:hover {\n",
       "  /* fitted */\n",
       "  background-color: var(--sklearn-color-fitted-level-2);\n",
       "}\n",
       "\n",
       "/* Specification for estimator info (e.g. \"i\" and \"?\") */\n",
       "\n",
       "/* Common style for \"i\" and \"?\" */\n",
       "\n",
       ".sk-estimator-doc-link,\n",
       "a:link.sk-estimator-doc-link,\n",
       "a:visited.sk-estimator-doc-link {\n",
       "  float: right;\n",
       "  font-size: smaller;\n",
       "  line-height: 1em;\n",
       "  font-family: monospace;\n",
       "  background-color: var(--sklearn-color-background);\n",
       "  border-radius: 1em;\n",
       "  height: 1em;\n",
       "  width: 1em;\n",
       "  text-decoration: none !important;\n",
       "  margin-left: 0.5em;\n",
       "  text-align: center;\n",
       "  /* unfitted */\n",
       "  border: var(--sklearn-color-unfitted-level-1) 1pt solid;\n",
       "  color: var(--sklearn-color-unfitted-level-1);\n",
       "}\n",
       "\n",
       ".sk-estimator-doc-link.fitted,\n",
       "a:link.sk-estimator-doc-link.fitted,\n",
       "a:visited.sk-estimator-doc-link.fitted {\n",
       "  /* fitted */\n",
       "  border: var(--sklearn-color-fitted-level-1) 1pt solid;\n",
       "  color: var(--sklearn-color-fitted-level-1);\n",
       "}\n",
       "\n",
       "/* On hover */\n",
       "div.sk-estimator:hover .sk-estimator-doc-link:hover,\n",
       ".sk-estimator-doc-link:hover,\n",
       "div.sk-label-container:hover .sk-estimator-doc-link:hover,\n",
       ".sk-estimator-doc-link:hover {\n",
       "  /* unfitted */\n",
       "  background-color: var(--sklearn-color-unfitted-level-3);\n",
       "  color: var(--sklearn-color-background);\n",
       "  text-decoration: none;\n",
       "}\n",
       "\n",
       "div.sk-estimator.fitted:hover .sk-estimator-doc-link.fitted:hover,\n",
       ".sk-estimator-doc-link.fitted:hover,\n",
       "div.sk-label-container:hover .sk-estimator-doc-link.fitted:hover,\n",
       ".sk-estimator-doc-link.fitted:hover {\n",
       "  /* fitted */\n",
       "  background-color: var(--sklearn-color-fitted-level-3);\n",
       "  color: var(--sklearn-color-background);\n",
       "  text-decoration: none;\n",
       "}\n",
       "\n",
       "/* Span, style for the box shown on hovering the info icon */\n",
       ".sk-estimator-doc-link span {\n",
       "  display: none;\n",
       "  z-index: 9999;\n",
       "  position: relative;\n",
       "  font-weight: normal;\n",
       "  right: .2ex;\n",
       "  padding: .5ex;\n",
       "  margin: .5ex;\n",
       "  width: min-content;\n",
       "  min-width: 20ex;\n",
       "  max-width: 50ex;\n",
       "  color: var(--sklearn-color-text);\n",
       "  box-shadow: 2pt 2pt 4pt #999;\n",
       "  /* unfitted */\n",
       "  background: var(--sklearn-color-unfitted-level-0);\n",
       "  border: .5pt solid var(--sklearn-color-unfitted-level-3);\n",
       "}\n",
       "\n",
       ".sk-estimator-doc-link.fitted span {\n",
       "  /* fitted */\n",
       "  background: var(--sklearn-color-fitted-level-0);\n",
       "  border: var(--sklearn-color-fitted-level-3);\n",
       "}\n",
       "\n",
       ".sk-estimator-doc-link:hover span {\n",
       "  display: block;\n",
       "}\n",
       "\n",
       "/* \"?\"-specific style due to the `<a>` HTML tag */\n",
       "\n",
       "#sk-container-id-1 a.estimator_doc_link {\n",
       "  float: right;\n",
       "  font-size: 1rem;\n",
       "  line-height: 1em;\n",
       "  font-family: monospace;\n",
       "  background-color: var(--sklearn-color-background);\n",
       "  border-radius: 1rem;\n",
       "  height: 1rem;\n",
       "  width: 1rem;\n",
       "  text-decoration: none;\n",
       "  /* unfitted */\n",
       "  color: var(--sklearn-color-unfitted-level-1);\n",
       "  border: var(--sklearn-color-unfitted-level-1) 1pt solid;\n",
       "}\n",
       "\n",
       "#sk-container-id-1 a.estimator_doc_link.fitted {\n",
       "  /* fitted */\n",
       "  border: var(--sklearn-color-fitted-level-1) 1pt solid;\n",
       "  color: var(--sklearn-color-fitted-level-1);\n",
       "}\n",
       "\n",
       "/* On hover */\n",
       "#sk-container-id-1 a.estimator_doc_link:hover {\n",
       "  /* unfitted */\n",
       "  background-color: var(--sklearn-color-unfitted-level-3);\n",
       "  color: var(--sklearn-color-background);\n",
       "  text-decoration: none;\n",
       "}\n",
       "\n",
       "#sk-container-id-1 a.estimator_doc_link.fitted:hover {\n",
       "  /* fitted */\n",
       "  background-color: var(--sklearn-color-fitted-level-3);\n",
       "}\n",
       "</style><div id=\"sk-container-id-1\" class=\"sk-top-container\"><div class=\"sk-text-repr-fallback\"><pre>MultinomialNB()</pre><b>In a Jupyter environment, please rerun this cell to show the HTML representation or trust the notebook. <br />On GitHub, the HTML representation is unable to render, please try loading this page with nbviewer.org.</b></div><div class=\"sk-container\" hidden><div class=\"sk-item\"><div class=\"sk-estimator fitted sk-toggleable\"><input class=\"sk-toggleable__control sk-hidden--visually\" id=\"sk-estimator-id-1\" type=\"checkbox\" checked><label for=\"sk-estimator-id-1\" class=\"sk-toggleable__label fitted sk-toggleable__label-arrow\"><div><div>MultinomialNB</div></div><div><a class=\"sk-estimator-doc-link fitted\" rel=\"noreferrer\" target=\"_blank\" href=\"https://scikit-learn.org/1.6/modules/generated/sklearn.naive_bayes.MultinomialNB.html\">?<span>Documentation for MultinomialNB</span></a><span class=\"sk-estimator-doc-link fitted\">i<span>Fitted</span></span></div></label><div class=\"sk-toggleable__content fitted\"><pre>MultinomialNB()</pre></div> </div></div></div></div>"
      ],
      "text/plain": [
       "MultinomialNB()"
      ]
     },
     "execution_count": 20,
     "metadata": {},
     "output_type": "execute_result"
    }
   ],
   "source": [
    "# تدريب النموذج\n",
    "model = MultinomialNB()\n",
    "model.fit(X_train, y_train)"
   ]
  },
  {
   "cell_type": "code",
   "execution_count": 21,
   "metadata": {},
   "outputs": [],
   "source": [
    "y_pred = model.predict(X_test)"
   ]
  },
  {
   "cell_type": "markdown",
   "metadata": {},
   "source": [
    "## Model Evaluation"
   ]
  },
  {
   "cell_type": "code",
   "execution_count": 22,
   "metadata": {},
   "outputs": [
    {
     "data": {
      "text/plain": [
       "array([[2343,  446],\n",
       "       [ 362, 2357]], dtype=int64)"
      ]
     },
     "execution_count": 22,
     "metadata": {},
     "output_type": "execute_result"
    }
   ],
   "source": [
    "matrix=confusion_matrix(y_test,y_pred)\n",
    "matrix"
   ]
  },
  {
   "cell_type": "code",
   "execution_count": 23,
   "metadata": {},
   "outputs": [
    {
     "data": {
      "image/png": "[encoded data removed]",
      "text/plain": [
       "<Figure size 640x480 with 2 Axes>"
      ]
     },
     "metadata": {},
     "output_type": "display_data"
    }
   ],
   "source": [
    "labels = np.array([[\"TN\", \"FP\"], [\"FN\", \"TP\"]])\n",
    "sns.heatmap(matrix, annot=True, fmt=\"\", cbar=True)\n",
    "plt.xlabel(\"Predicted Labels\")\n",
    "plt.ylabel(\"Actual Labels\")\n",
    "plt.savefig('Conf_matrix.png')"
   ]
  },
  {
   "cell_type": "markdown",
   "metadata": {},
   "source": [
    "### Accuracy_Score\n",
    "![My Image](data:image/png;base64,iVBORw0KGgoAAAANSUhEUgAAAlIAAADYCAYAAAAgaw3kAAAKrGlDQ1BJQ0MgUHJvZmlsZQAASImVlwdQU1kXx+976Y2WEAEpoTfpLYCUEFoAAekgKiEJEEqIgdDsiLgCa0FFBBVFV0UUXAsga0FEsS2KCtgXZBFQ1sWCDZXvAUPY3W++75vvzJy5v3feueeee+fdmf8DgKLAFYtTYQUA0kSZkhAfD0ZUdAwDNwQgIAdIwADM4/IyxKzg4ACA2Mz4d/vQjWQjds9ssta/v/+vpsgXZPAAgIIRjudn8NIQPo34S55YkgkAah8S183OFE9yG8I0CdIgwg8mOXGaRyY5forRYConLISNMA0APJnLlSQCQGYgcUYWLxGpQ3ZH2FLEF4oQFiPsmpaWzkf4BMJGSA4SI0/WZ8b/pU7i32rGy2pyuYkynt7LlOE9hRniVG7u/3kc/9vSUqUzaxggTk6S+IYgoxJyZg9S0v1lLIoPDJphIX8qf4qTpL7hM8zLYMfMMJ/r6S+bmxoYMMMJQm+OrE4mJ2yGBRleoTMsSQ+RrZUgYbNmmCuZXVeaEi6LJwk4svp5SWGRM5wljAic4YyUUP/ZHLYsLpGGyPoXiHw8Ztf1lu09LeMv+xVyZHMzk8J8ZXvnzvYvELFma2ZEyXrjCzy9ZnPCZfniTA/ZWuLUYFm+INVHFs/ICpXNzUQ+yNm5wbIzTOb6Bc8wYIN0kIq4BDBAAPLkCUCmICdzciPsdHGuRJiYlMlgITdMwOCIeObzGNaW1rYATN7X6c/hHX3qHkL0G7Ox/KcAuERPTEycm40FIOdxeggA4shszLAWAMoFAK6t50klWdOxqbuEAUQgD2hAFWgCXWAEzIA1sAfOwB14AT8QBMJANFgCeCAJpCGdZ4MVYC0oBMVgC9gBKkAVOACOgOPgJGgE58AlcBXcBHdAF3gMesEAeAVGwQcwDkEQDqJAVEgV0oL0IVPIGmJCrpAXFACFQNFQHJQIiSAptAJaBxVDpVAFtB+qgX6GzkKXoOtQJ/QQ6oOGobfQFxgFk2EarAEbwBYwE2bB/nAYvBhOhJfBeXABvAkuh6vhY3ADfAm+CXfBvfAreAwFUCQUHaWNMkMxUWxUECoGlYCSoFahilBlqGpUHaoZ1Y66h+pFjaA+o7FoKpqBNkM7o33R4Wgeehl6FboEXYE+gm5At6HvofvQo+jvGApGHWOKccJwMFGYREw2phBThjmEOYO5gunCDGA+YLFYOtYQ64D1xUZjk7HLsSXYPdh6bAu2E9uPHcPhcKo4U5wLLgjHxWXiCnG7cMdwF3F3cQO4T3gSXgtvjffGx+BF+Hx8Gf4o/gL+Ln4QP05QIOgTnAhBBD4hl7CZcJDQTLhNGCCMExWJhkQXYhgxmbiWWE6sI14hPiG+I5FIOiRH0kKSkLSGVE46QbpG6iN9JiuRTchscixZSt5EPkxuIT8kv6NQKAYUd0oMJZOyiVJDuUx5RvkkR5Uzl+PI8eVWy1XKNcjdlXstT5DXl2fJL5HPky+TPyV/W35EgaBgoMBW4CqsUqhUOKvQozCmSFW0UgxSTFMsUTyqeF1xSAmnZKDkpcRXKlA6oHRZqZ+KoupS2VQedR31IPUKdYCGpRnSOLRkWjHtOK2DNqqspGyrHKGco1ypfF65l46iG9A59FT6ZvpJejf9yxyNOaw5gjkb59TNuTvno8pcFXcVgUqRSr1Kl8oXVYaql2qK6lbVRtWnamg1E7WFatlqe9WuqI3Mpc11nsubWzT35NxH6rC6iXqI+nL1A+q31Mc0NDV8NMQauzQua4xo0jXdNZM1t2te0BzWomq5agm1tmtd1HrJUGawGKmMckYbY1RbXdtXW6q9X7tDe1zHUCdcJ1+nXuepLlGXqZugu123VXdUT0tvgd4KvVq9R/oEfaZ+kv5O/Xb9jwaGBpEGGwwaDYYMVQw5hnmGtYZPjChGbkbLjKqN7htjjZnGKcZ7jO+YwCZ2JkkmlSa3TWFTe1Oh6R7TznmYeY7zRPOq5/WYkc1YZllmtWZ95nTzAPN880bz1xZ6FjEWWy3aLb5b2lmmWh60fGylZOVnlW/VbPXW2sSaZ11pfd+GYuNts9qmyeaNramtwHav7QM7qt0Cuw12rXbf7B3sJfZ19sMOeg5xDrsdepg0ZjCzhHnNEePo4bja8ZzjZyd7p0ynk05/Ops5pzgfdR6abzhfMP/g/H4XHReuy36XXleGa5zrPtdeN203rlu123N3XXe++yH3QZYxK5l1jPXaw9JD4nHG4yPbib2S3eKJ8vTxLPLs8FLyCveq8HrmreOd6F3rPepj57Pcp8UX4+vvu9W3h6PB4XFqOKN+Dn4r/dr8yf6h/hX+zwNMAiQBzQvgBX4Lti14EqgfKApsDAJBnKBtQU+DDYOXBf+yELsweGHlwhchViErQtpDqaFLQ4+GfgjzCNsc9jjcKFwa3hohHxEbURPxMdIzsjSyN8oiamXUzWi1aGF0UwwuJiLmUMzYIq9FOxYNxNrFFsZ2LzZcnLP4+hK1JalLzi+VX8pdeioOExcZdzTuKzeIW80di+fE744f5bF5O3mv+O787fxhgYugVDCY4JJQmjCU6JK4LXE4yS2pLGlEyBZWCN8k+yZXJX9MCUo5nDKRGplan4ZPi0s7K1ISpYja0jXTc9I7xabiQnHvMqdlO5aNSvwlhzKgjMUZTZk0RBjdkhpJ10v7slyzKrM+ZUdkn8pRzBHl3Mo1yd2YO5jnnffTcvRy3vLWFdor1q7oW8lauX8VtCp+Vetq3dUFqwfW+Kw5spa4NmXtr/mW+aX579dFrmsu0ChYU9C/3md9baFcoaSwZ4Pzhqof0D8If+jYaLNx18bvRfyiG8WWxWXFX0t4JTd+tPqx/MeJTQmbOjbbb967BbtFtKV7q9vWI6WKpXml/dsWbGvYzthetP39jqU7rpfZllXtJO6U7uwtDyhv2qW3a8uurxVJFV2VHpX1u9V3b9z9cQ9/z9297nvrqjSqiqu+7BPue7DfZ39DtUF12QHsgawDLw5GHGz/iflTzSG1Q8WHvh0WHe49EnKkrcahpuao+tHNtXCttHb4WOyxO8c9jzfVmdXtr6fXF58AJ6QnXv4c93P3Sf+TraeYp+pO65/efYZ6pqgBashtGG1Mauxtim7qPOt3trXZufnML+a/HD6nfa7yvPL5zReIFwouTFzMuzjWIm4ZuZR4qb91aevjy1GX77ctbOu44n/l2lXvq5fbWe0Xr7lcO3fd6frZG8wbjTftbzbcsrt15le7X8902Hc03Ha43XTH8U5z5/zOC3fd7l6653nv6n3O/ZtdgV2d3eHdD3pie3of8B8MPUx9+OZR1qPxx2ueYJ4UPVV4WvZM/Vn1b8a/1ffa957v8+y79Tz0+eN+Xv+r3zN+/zpQ8ILyomxQa7BmyHro3LD38J2Xi14OvBK/Gh8p/EPxj92vjV6f/tP9z1ujUaMDbyRvJt6WvFN9d/i97fvWseCxZx/SPox/LPqk+unIZ+bn9i+RXwbHs7/ivpZ/M/7W/N3/+5OJtIkJMVfCnZICKMThhAQA3h5GdEI0ANQ7iH5YNK2npwya/geYIvCfeFpzT5k9AHXIMCmL2C0AnEDcYA1SG3melERh7gC2sZH5jPad0umThkX+WPa5T1KXSuwn8A+b1vB/6fufI5isagv+Of4LoB0Ho641PxsAAACKZVhJZk1NACoAAAAIAAQBGgAFAAAAAQAAAD4BGwAFAAAAAQAAAEYBKAADAAAAAQACAACHaQAEAAAAAQAAAE4AAAAAAAAAkAAAAAEAAACQAAAAAQADkoYABwAAABIAAAB4oAIABAAAAAEAAAJSoAMABAAAAAEAAADYAAAAAEFTQ0lJAAAAU2NyZWVuc2hvdMxE4xQAAAAJcEhZcwAAFiUAABYlAUlSJPAAAAHWaVRYdFhNTDpjb20uYWRvYmUueG1wAAAAAAA8eDp4bXBtZXRhIHhtbG5zOng9ImFkb2JlOm5zOm1ldGEvIiB4OnhtcHRrPSJYTVAgQ29yZSA2LjAuMCI+CiAgIDxyZGY6UkRGIHhtbG5zOnJkZj0iaHR0cDovL3d3dy53My5vcmcvMTk5OS8wMi8yMi1yZGYtc3ludGF4LW5zIyI+CiAgICAgIDxyZGY6RGVzY3JpcHRpb24gcmRmOmFib3V0PSIiCiAgICAgICAgICAgIHhtbG5zOmV4aWY9Imh0dHA6Ly9ucy5hZG9iZS5jb20vZXhpZi8xLjAvIj4KICAgICAgICAgPGV4aWY6UGl4ZWxZRGltZW5zaW9uPjIxNjwvZXhpZjpQaXhlbFlEaW1lbnNpb24+CiAgICAgICAgIDxleGlmOlBpeGVsWERpbWVuc2lvbj41OTQ8L2V4aWY6UGl4ZWxYRGltZW5zaW9uPgogICAgICAgICA8ZXhpZjpVc2VyQ29tbWVudD5TY3JlZW5zaG90PC9leGlmOlVzZXJDb21tZW50PgogICAgICA8L3JkZjpEZXNjcmlwdGlvbj4KICAgPC9yZGY6UkRGPgo8L3g6eG1wbWV0YT4KNGukpQAAABxpRE9UAAAAAgAAAAAAAABsAAAAKAAAAGwAAABsAAAR/0W+rCsAABHLSURBVHgB7N0LiBXlG8fxx7vlJa3ELHE3LBNJS1syCywhMZUMLO1OsMHaBfICZWFRFqWUWaaUFhaaRkkUpIZIdNm0iyViVroZpK7kpWwz28xcnd5nal5m9pyz55x3z56d3fkO+D8z77zvzLyfGdrf/505c9p4ZhImBBBAAAEEEEAAgbwF2hCk8jajAQIIIIAAAggg4AsQpLgQEEAAAQQQQAABRwGClCMczRBAAAEEEEAAAYIU1wACCCCAAAIIIOAoQJByhKMZAggggAACCCBAkOIaQAABBBBAAAEEHAUIUo5wNEMAAQQQQAABBAhSXAMIIIAAAggggICjAEHKEY5mCCCAAAIIIIAAQYprAAEEEEAAAQQQcBQgSDnC0QwBBBBAAAEEECBIcQ0ggAACCCCAAAKOAgQpRziaIYAAAggggAACBCmuAQQQQAABBBBAwFGAIOUIRzMEEEAAAQQQQIAgxTWAAAIIIIAAAgg4ChCkHOFohgACCCCAAAIIEKS4BhBAAAEEEEAAAUcBgpQjHM0QQAABBBBAAAGCFNcAAggggAACCCDgKECQcoSjGQIIIIAAAgggQJDiGkAAAQQQQAABBBwFCFKOcDRDAAEEEEAAAQQIUlwDCCCAAAIIIICAowBByhGOZggggAACCCCAAEGKawABBBBAAAEEEHAUIEg5wtEMAQQQQAABBBAgSHENIIAAAggggAACjgIEKUc4miGAAAIIIIAAAgQprgEEEEAAAQQQQMBRgCDlCEczBBBAAAEEEECAIMU1gAACCCCAAAIIOAoQpBzhaIYAAggggAACCBCkuAYQQAABBBBAAAFHAYKUIxzNEEAAAQQQQAABghTXAAIIIIAAAggg4ChAkHKEoxkCCCCAAAIIIECQ4hpAAAEEEEAAAQQcBQhSjnA0QwABBBBAAAEECFJcAwgggAACCCCAgKMAQcoRjmYIIIAAAggggABBimsAAQQQQAABBBBwFCBIOcLRDAEEEEAAAQQQIEhxDSCAAAIIIIAAAo4CBClHOJohgAACCCCAAAIEKa4BBBBAAAEEEEDAUYAg5QhHMwQQQAABBBBAgCDFNYAAAggggAACCDgKEKQc4WiGAAII5Cvw5ptvym+//ZZvs0j9du3ayZ133int27f3y5ctWya1tbWROvUXtE3v3r2lb9++MnToUNHluE9NYaV9Dnu1bdtWysvLpWPHjnlxvP3223Lw4EG/TUlJiYwfPz6v9lRuXQIEqdZ1PukNAgjEWKBfv35SXV3d6CPUMNazZ09/O127ds0apMI77NWrl9x4443y6KOPyplnnhleFav5prDSDtb3mjlzpsydOzevvg8cOFCqqqr8NldccYVs2LAhr/ZUbl0CBKnWdT7pDQIIxFigKcJB/WCQa/c1UK1cuVJGjx6da5Oi1msKK+1AfS8dlaqsrBQNRLlOBKlcpZJRjyCVjPNMLxFAIAYCegtoz549aY9k+/btcuLECbvuwgsvtPPhGb0tt3HjRunSpYtfHA4Gum748OHh6uJ5nuzbt8/f78mTJyPrtK1ua8iQIZHyOCw0hZX2K+wV9LN///6ydetWaxqUZ/okSGWSSWY5QSqZ551eI4BAzARGjBghX3zxhX9U+vzT8ePHczrCcDDQ8LVt27a07Y4ePSqLFy+WJ554QmpqamydsrIy+eqrr+xyS5hxtdK+hb3Cfa2oqJAlS5aEizLOE6Qy0iRyBUEqkaedTiOAQNwEXMNBOBg0FKSC/m7evFkuu+wyqaurC4r8AFd/JMuuzHFm+fLlMmvWLL/22LFj5eWXX86xZf7VXK10T2Gv+nteu3atjBs3rn5xyjJBKoUk2QVm2JcJAQQQQKCZBUy48cxfI/+fGZHK+WjMLT7bzgSpnNpNnz7dttF9Pvnkkzm1a6jS/Pnz7TbNbbmGqjZ6nauV7jjsFXgHn3369PF+/fXXrMd3wQUX2L6aZ6uy1qdC6xbQ++dMCCCAAALNLOAaDsLBINcgZb6+b4OAhogpU6Y0uvctMUhNnjzZM6+DiFhMmjQpqwVBKitRoioQpBJ1uuksAgjEVaCYQco8ixUJDxMnTmw0S0sMUrfddpv37bffep06dYp4mG8zNuhBkGqQJ3ErCVKJO+V0GAEE4ihQzCBlXnYZCQ533XVXo0laapDSjs+bNy/i0aNHD2/v3r0ZTQhSGWkSuYIglcjTTqcRQCBuAsUMUjoSEzwXpJ9z5sxpNEdLDlLmtRPeyJEjIybm/VqeeV1EWheCVFqWxBbyrT3zXxEmBBBAoLkFXL+JFv4WWi7f2tOXcJogFenuN998I4MHD46UpVswfylFv/Wnn/UnE6REf9ZFJ33Zp34DLt1kQoh079493aqcy1ytdAdhL3V4/fXX/f3u2rXLf5/WkSNH7HEsWrRI7r33XrsczPCtvUCCTxUgSHEdIIAAAjEQcA0H4WCgIWXTpk2R3mjo0Rdy7ty5U1555RVZvXp1ZP2YMWNk3bp1kbJMC7t375bS0tJMq3MqX7p0qf/7djlVzlDJ1Uo3F/YKByld9+qrr/q/Y6jzOp166qmyZcsWGTBgwH8F//8vQSrCkfgFglTiLwEAEEAgDgKu4SAcDPLth4aoVatW5TxC1NqDlPpNmDAhEjb1/Vr69vfwDz0TpPK90lp3fYJU6z6/9A4BBFqIQLGDlHnAXBYuXCj6FvVcp/379/u3v+r/1Iy2P3ToUGQzZ5xxRmQ5WNC3q99www3BotOnq5XuLBw8649I6foDBw6I3iI175PSRX96/PHH5ZFHHgkWhSBlKZgxAgQpLgMEEEAgBgKu4SAcDLJ1Q59Nuvrqq+WWW26R66+/Plv1vNY/99xzMmPGDL+N/k7emjVr8mqfT2VXK91H2CtdkNI677zzTsSnQ4cO/tvfhw0bpqsJUr4C/xMIEKQCCT4RQACBZhRwDQfhYKDPL61fvz6lF3pbSh8A79atW8q6QhW0piClJnfccYfoz94E06BBg/wH7Tt37kyQClD49AUIUlwICCCAQAwEChGkcvnWXlN1tbUFqcOHD/vfZKyurrZk5qd1RL+dyK09S8KMESBIcRkggAACMRAgSOV+ElytdA/hEbxMt/aCI/nwww/9W6HB6x7atGkjWqbPl1VVVfnVzG/tyYYNG4ImfCZQgCCVwJNOlxFAIH4CruEgHAwYkcp+XsNe2YKUbm3atGmyYMECu+GSkhI5duyY6IP3OhGkLE1iZwhSiT31dBwBBOIkQJDK/Wy4Wuke8g1SR48eFX3IfMeOHWkPkCCVliVRhQSpRJ1uOosAAnEVcA0H4WDQnCNSlZWVsmLFCp+3rKxMKioqmoza1UoPKOyVy4iUtvn6669F91lXV6eLkYkgFeFI5AJBKpGnnU4jgEDcBFzDQTgYNGeQKqanq5UeY9gr1yCl7WbPni2PPfaYzkYmglSEI5ELBKlEnnY6jQACcRNwDQfhYECQyn5Ww175BCkdjdJzpKNT4YkgFdZI5jxBKpnnnV4jgEDMBAhSuZ8QVyvdg2uQ0rb6nJQ+L6XPTQUTQSqQSO4nQSq5556eI4BAjASuvPJK0eeMdNIfy62trc3p6E4//XSpqanx6+of+c2bN+fUriVXcrXSPoe9ysvLRX9EOZ/phRdekKlTp9omo0aN8l+JYAuYSZwAQSpxp5wOI4AAAggggEChBAhShZJkOwgggAACCCCQOAGCVOJOOR1GAAEEEEAAgUIJEKQKJcl2EEAAAQQQQCBxAgSpxJ1yOowAAggggAAChRIgSBVKku0ggAACCCCAQOIECFKJO+V0GAEEEEAAAQQKJUCQKpQk20EAAQQQQACBxAkQpBJ3yukwAggggAACCBRKgCBVKEm2gwACCCCAAAKJEyBIJe6U02EEEEAAAQQQKJQAQapQkmwHAQQQQAABBBInQJBK3CmnwwgggAACCCBQKAGCVKEk2Q4CCCCAAAIIJE6AIJW4U06HEUAAAQQQQKBQAgSpQkmyHQQQQAABBBBInABBKnGnnA4jgAACCCCAQKEECFKFkmQ7CCCAAAIIIJA4AYJU4k45HUYAAQQQQACBQgm0iCBVU1Mj//zzj+1z586d5bTTTrPLzCCAAAIIIIAAAs0hEPsg9ffff0ufPn3k999/tz7nnXee7Ny50y4zgwACCCCAAAIINIdA7IPUW2+9JTfddFOKzcaNG+Xyyy9PKacAAQQQQAABBBAolkDsg9TYsWNl3bp1KR4VFRWyZMmSlHIKEEAAAQQQQACBYgnEOkj9/PPP0q9fPzlx4kSKR48ePWT//v3SqVOnlHUUIIAAAggggAACxRCIdZB6+umnZebMmRkd9Lbf5MmTM65nBQIIIIAAAggg0JQCsQ5SgwYNku3bt9v+a7B64IEH7PL48eNlzZo1dpkZBBBAAAEEEECgmAKxDVKbNm2S4cOHW4uysjL57LPP/G/wHTp0yC9v37697N27V3r37m3rMYMAAggggAACCBRLILZB6p577pGXXnrJOjz//PMydepUufvuu2Xx4sW2fP78+TJ9+nS7nM9MdXW1vPHGG7Jjxw7ReX3Fgr5aYciQIXLRRRf5//r27ZvPJv26hdhubW2tvPjii+J5nr/Nc889VyZNmpT1WL788kv55JNPbL0JEybIwIED7XJ4Rh/WP3z4sF90zjnnyK233urPa9nKlSt9Fw2qut+bb7453NSf11dTbNmyRb7//nv77+DBg9KrVy8/8Pbv319uv/12KSkpSWmbrcDV8MiRI5HrpmPHjjJt2rRsu7PrX3vtNfnll1/ssl6HXbt2tcvMIIAAAgggEBEwf6hjN5k/0F7Pnj01Qfj/2rVr55kHy/3j/PTTT225rjeBJ+/jNw+xe9dee63Xtm3byLaC/YU/77//fu/48eM57aOQ2/3hhx8ix3bppZfmdAwPPvhgpJ0JnRnbde/e3da95JJL/HpLly71unXrZsvVwjynlrINrXf22WdH6oXdgnk1VmsTjFK2ka6gsYYmBHkmPEWOq7KyMt2uUsr0GtNrLTj2Dh06eLo9JgQQQAABBDIJ6IhH7KZVq1bZP2b6R+2aa66xx3jy5EmvtLQ0sn7r1q12fbYZ8/4p76yzzoq0D/5wZvocOXKkt2/fvgY3XejtFjtImefRvHfffTcSJAKP+kHq4YcfzstPtzN06FDPjLIVxdC8dyxyfOXl5Q3uN1i5cOHCSLuJEycGq/hEAAEEEEAgrUAsb+3pQ+Tvv/+++fv737RixQp720lLZs2aJU899dT/a0VmzJghzz77rF3ONHPgwAEZPHhw5NaN1tXbd/oM1oABA0RvTemtsZ9++imyGb09pbcA9edp6k9NsV19c7seTzCZESnR23bZpoceekjmzp1rq+lt0ClTptjl8Iz+zM4ff/xhi7RversuPOlzaGptRub84g8++EBGjx4driKnnHKKmLDiP9NmRhJlz549oufs888/j9TTW4danm4qpOHHH38so0aNsrsxI2xigrB06dLFlqWb0Re8ho/5vffeEzOalq5q3mVmVFNWr15tb9XmvQHTYMSIEWJGAV2a0gYBBBBAoKkE0sarZizUWzvh2yvm+RTvzz//jBzRd999Fxk50BGmurq6SJ10C9ddd12knTH1dHRFR7nC07Fjx7w5c+ak1F20aFG4mp1viu0We0RKLYJ/F198saejglVVVSm3NceMGWPraX3z/FXG0brZs2dH6pog45l3glm38EwhDfV8mhAa2feyZcvCu0uZN8E5Ut98gSGl7ymN8ijYtWtXZPuBdT6fejuVCQEEEEAgXgKxG5F65plnIq840IeVly9fbv7eRKdhw4b5DzoHpWvXrpVx48YFiymfP/74o5x//vmR8gULFsh9990XKQsv1H/gXUdi1q9fH64iTbXd5hiRatOmjZjbW6L91vl0k47q/PXXX/4qraMPmmd6mN0EGjGhTLZt22Y3ZcJZZKRNVzSF4bx58+womu7jqquuko8++khn0046iqejecGU6yhnUD/b5+7du6W0tDRbtQbXmyDlj/w1WImVCCBQMAHzf4Cct+Xa1rVdcKCNae/a1rWdHrNrW/1vakOT/vde/7tfjOlfAAAA//8vcD6DAAAY00lEQVTtnXnM1cQahwdcWWQRlUW4oCgoAkYkAsEQV1AJkiCgf6BGkMUNgrsiihrcIRIwQSMuKIoGNEFNREVcwIBCVERRFEVE2QmggMrSO+/htnfas3Daab9zztdnkkNn2tneZ4b2981MpzUc7VQZudNOO0199913Xo3mzp2revbs6YVdz4QJE9Stt97qBtXll1+uZs6c6YWDnoceekiNGTPGO928eXP1yy+/qEMPPdQ7F/R8//336tRTT/VO/+c//1G//vqrFxZPUvn++OOPqk2bNl5ZZ511llq8eLEXzue566671COPPOJdnjp1qho+fLgXNj3169dXO3bs8E499dRT6vrrr/fCQc/mzZvVscce650+6aSTlNSzkBs6dKh69tlnvSivvfaaGjhwoBcWTxIMN23apKSN//3330xZNWrUUKtWrVInnHCCr2w3cPrpp6tly5a5wYy/Q4cOXtjWI+wuuugitX///shZjR8/Xl188cWR05MwGQKrV6+OnHGa0pbK1uA9O3JjkbCiCMyfP1+dc845VVLnGuUkpL744gslgsF1TZo0UWvXrlWHHHKIe8o7/vHHH6pFixbeg+nII49U69evVyIOcrmzzz5bLVy40Lv06KOPqttvv90L5/OMGjVK7dmzJ3O5UaNG6sEHH/RFTSrfqhZSRxxxhPr77799tgUDcv3uu+9W+/bty1xq165dXpHmphXOd955pxtUjz32mLrtttu8sHiSYnjFFVcoEW6uu++++9S4cePcoHf89ttvVfv27b1wp06d1NKlS71wWj0fffSRkl8UV6qHZtRyedhGaWXSQKB8CaRWSN14441KRkVcN3r0aDVx4kQ3mHW84IIL1Lx587zzzzzzjJIRkFyuZcuWas2aNd6lBQsWqO7du3vhqJ6k8i1HIVWIkYy0rFu3LiN8t23bpnbt2pX5vf32276RwlxCKimGH374oTr//PO9ardq1Ur9/PPPSkanTHfPPfcoGe1x3eTJk5X0xbQ7EZ33339/2jFgf4oJyL0pqpP7TRQXNZ1blk36qGmjppM6R00bNZ3LKc5j2YxI/fPPP6pZs2Zq69atnn3ygDvzzDO9cNDz/PPPqzlz5ninRRiJQMrlZMRKynCd/AUqU3W2Lql8y11IyVTVu+++qz744AP16aefqt9++80buSvENJeQSoqhzFq3bdvWN/0owvu8887zVbF169YZgSUnDz/8cCWjnTL6GLf76aeflM1MukxV1qpVK+5q5c0PIZUXje9CKR62UgGbB0kp0paiTFtOvoYmAIE8BMpGSM2aNUsNGDAgTzWLPy0PK3kwmk7WAQWn/GS6rtD6KDN9Pn9S+Up55SqkRIzKKKGsa/rrr7/yocl7PiikkmQolXj88cd9U7hXXnmlmj59ule/zz//XHXp0sULX3bZZUr6YtxOhLvNg0TqM23aNDV48OC4q5Y3P5upPRtbS5HWpsy8ALkAAQikg4CskSoH17t3b1n0bv279957s8zRa3uy8tXrqbLihT2RVL5Sj5UrV/rqrNeOFVU9vR7Jl04vNs+brl69el5cvUYqbzz3gp6+c3r16uWlMdtL0usRQWfkyJGOHslwnnzySeeFF15w+vTp44uvhZSbXeaYJEMpYMOGDY4eZfLqULt2bUeLN68Oeg2cd03seeutt7xrcXr02h1fOSa7Yv1aSMVZJfKCAAQgAIEYCMhUQ8mdXlvj6NEh6weNPJD0W1mOPPCDrkGDBr789V/bwSiRwknlW45CSr8p6WMovDt37uwISxFEudwTTzzhSxMUUpImKYZuffRbgr466LcIM5f0onmnadOm3jX9coOjRyrdZLEe9UsTXjnFCqdgPD2SFmudyAwCEIAABOwJlMXUXnArA3lFXRaOF+P27t2r+vXrp3bv3u1F//jjj1WPHj28sHhkGwPZzsB1hbYFcOPIURZLy3ogcTIVOGjQoIzf/SepfINTe1KOuS2EW37wGHX7g2Le2uvatatvC4ZrrrlGPf300+qwww4LVsMLB9s2OLUnEZNi6FZC1kXJiwmuc9fSBRejy3YaMhWYlHPf/oyav/S/4EL5qHmRDgIQgAAEYiJgr8Xsc9Cvnvv+Wh87dmyoTLWQ8qUfMmRIVvr+/fv74gwbNiwrTq4TDRs29KXbvn27L1pS+crUo25i7ydTUsU4vQ+Ul0bSxzW1J6N8devW9eUto2YHc3pPK1+aXCNSSTF06yZ113te+eohdb/22mt955YvX+4m4QgBCEAAAhAoikDJp/aWLFnie5jJw3/FihVFVd6NpPcK8uUha3/06/fu5czx9ddf98XRe1M5euTKFycY+PLLL31pjjvuuGAUJ6l8pSD9hpavfD2illW+eUKm0fSIhS9NXEJKb2ngy1e/aWcWndMvU37BabtcQipJhm7F9H5WvvrfcsstjimSZYoSBwEIQAACEAhLoORCSu/X43vA6c0Qw9rg7Ny506lTp44vn1deecWXjwgrc3G1CDa93YKzceNGXzw3IPE7duzoy/PSSy91L3vHpPKVAvSUl698vXGlI+t6gk7v3u0EF027o1lxCSkpU0bF3HzlqDc4DVbFC4u4lQXoZnzx5xJSSTJ0KySLzvUUZFZ93PpNmTLFjcoRAhCAAAQgUDSBkgop/Sq9o/fr8T3cZEFzFKc/EePLR94uCzpZZOw+ON2j/iSNoz8t48iIizh54IoIC04FSXy9X1Iwy0w4qXxvvvnmrPrqV/Udvb+W8+abbzozZsxw7rjjDqdx48ZZ8Vz74hRS8laem68cZWF/kIlMj40YMSJrZMxNl0tICcSkGJoNprfX8NXfrZMIvi1btphR8UMAAhCAAASKIlBSITV79mzfg61mzZqO3gyxqIoHI73xxhu+vGTqLldewfU47sNUjoXeHNTfqwsW6Qsnka+skwqOApn1Dfpluk1/M87HIU4hFWwvt/zjjz/e0ZsSOvo7fL6yhads2+DGk2M+ISUwk2BoNtL777/vq4tbLxFYOAhAAAIQgEAUAiUVUsE9hvTnPKLYkEmj39pzjjrqKN+DMtdDW15v19/Yyzti4j5c3aOsOZIF3Lmm1MzKJpWvfivOtw+SW6/gUUalFi1alNm/ybwWp5ASe2XkqNAUmVu2bCsgo1WyL5N7To652sTlmBRDN39ZdK43a/XVR+r0zjvvuFE4QgACEIAABEIRKJmQ0tsWZK1reu6550JVPhhZb03ge0j27NkzGMUL60/JOHqX65wjPiIUZH3U1Vdf7SxevNhLU4wniXz1B3Qz+zXlGjE75phjMsLw999/z1RPhJMpXGRTzHxOFs+7cfXO7/miZZ3X2wk4spYtl6CSqdrrrrvOcTc81R+O9MqQsiZNmpSVX/BEEgzdMsaMGeOrjwg+6Ys4CEAAAhCAQBQCZbGPlH7AlszJ/lPyxXi9YaKISqWnp5ReN5X55ppNpZLIV/Yhkk/g6PU8maq1aNFC6Wk160/dRLVTb8Kpvvrqq8w+W3oqNfOtxHbt2hXcVypMWUkw7Nu3r+/7jHqNmdJbNISpFnEhAAEIQAACHoHUCymPBJ5qT0DvHZXZ/FNP8Xm2yrmTTz7ZC+OBAAQgAAEIhCGAkApDi7gVTUB2wNdvO3o2yG7negG6F8YDAQhAAAIQCEsAIRWWGPErioB8Qkg+GaQ/+KteffVVX90/++wz1a1bN985AhCAAAQgAIEwBBBSYWgRt2IIbN26VTVv3lzpzUqVfuMyq96XXHKJ0m/rZZ3nBAQgAAEIQCAMAYRUGFrErRgCemNV1aRJk5z1PfHEE9XcuXOV3nQ153VOQgACEIAABIolgJAqlhTxKopALiGlt2tQeksMNX36dHX00UdXlD1UFgIQgAAEypMAQqo824VaWRKQ6TxZWC5H/QkY1aZNm8zbeSKmcBCAAAQgAIG4CCCk4iJJPhCAAAQgAAEIpI4AQip1TY7BEIAABCAAAQjERQAhFRdJ8oEABCAAAQhAIHUEEFKpa3IMhgAEIAABCEAgLgIIqbhIkg8EUkBg5syZSvbosnHyXcYhQ4b4vhH54osvqp07dxbMVtI1btw4sz/YGWecoSRc7i4JXiarmjVrqsGDB4f+NuisWbPUxo0bM/hatmypevfuXe4oM/UzbQ9bYf3RdzV06FBVo0YNL2kx+VViv/MM1J5ibDTjm/6DMUtb/zPZ+PxRvnRMGghAIJ0E9IeyHX0Dsf5pMeYDWKdOnVB56o+LOzfeeKOzadMmXz7lFkiCV5CV/vB2aLPbtm3r8e7evXvo9KVKELQ9bF/UH0L3VT1sfpXS70wjw9oYZHowZmnqfyZX06/MAH4IQAAChQgkIQykvKg3e3mwvffee4WqXNJrSfAKstKjAs6CBQtC2YmQOoAryDIoIvKFy73fmZ0hqo2u7QcTUmnqfyZX08/Unu4tOAhAoDgCMgW0Zs2anJFXrFjh+xxP+/btc8aTqZKFCxcqfYP3rtetW9eb2pPrXbp08a6JR9+01Lp16zJl79+/33dN0kp+HTt29J0vh0ASvExWro2tW7dWX3/9tY+pey3X8ZRTTlE//PBD5pIekVJaiOWKVnbnTNtlWun0008vuo4yTSX9xNxLzsyvOvU7E4ppY9zM3HLS0v9ce7OOpqrCDwEIQCAqga5du3rTRfqhFSob869mLcDypt21a5czceJEp2HDhl5Z+qbmdO7cOW+acr0QlZfJSmx3f8OGDSva1OowIlWonxQLwmRZKL9K7nfF2hiFmdv35JiG/pePEVN7+chwHgIQCEUgqjCQQsLe7JcsWeKIWDNv5IsWLQpV31yR9cJcR3/sOvPTC5NzRYntXFReJivTfvHrD3EXVb8khVSSDE3bCwmfoiDoSGHzq8R+F9bGg7Ez8yvH/new+idxHSGVBFXyhEAKCUQVBoLKvDkX+4AcPXq0T0iNHz/emrqMdrkPBz0tZ51foQyi8jJZuXV1j02bNnU2b95cqNjMtSSFVJIMTduL7SeFYETJr9L6XRQbi2Xm9jv3WA79r1Ddk7qGkEqKLPlCIGUEogoDwRTlZq9f4fdEj9zIhw8fbk08SREQrFxUXiargQMHOnorCB+HAQMGBIvKCiOkDiAxWRYrzCqt30WxMavDGCfM/Mqx/xlVrTIvQqrKUFMQBKo3gajCQKiYN+diH2gylef+JSzHfv36WQOuNCE1aNAgZ/ny5Y7+MLePxYwZMwqyQEgdwJOGfhfFxkKdx8yvHPtfobondQ0hlRRZ8oVAyghUtZDSm136xMOIESOsiVeikBKjn3jiCR+LBg0aOGvXrs3LAyF1AI0pCooV8JXW76LYmLfj6AtmfiKkxJVT/8tUqIr/QUhVMXCKg0B1JVDVQkpu4uaI1MMPP2yNtlKF1L59+5wePXr4eFx44YWO3ioiJxOE1AEspigoVkhVWr+LYmPOTvO/k2Z+rpAqp/5XqO5JXWMfKX0nxkEAAvYEunXrpvR0WyYj2bNnz549RWdq7nWjH2jqm2++KZhWT10pfRP3xVm2bJnq0KGD71yugL6ZqqVLl8ofkVmXtZBS8lkXcXrTRaXfgsuKIye0EFH16tXLea3Yk1F5mayEwUsvvZQpcvXq1Zm9tP7880+vClOmTFE33HCDF3Y9tvtIlYqhaXutWrVU3759XZMKHps1a6YmTJiQFcfMr7r2O9PGuJmVqv9lNWSpTySl0MgXAhBIF4G4RqRktGT79u2+37Zt2xy94aczZ84cp0+fPr6RF30PdXr16lU0bC04stJLHmF+06ZNK7q8fBGj8so1IuCWIfUy7ahdu7ajN950L3tH2xGpUjE0bTftPJhfdpjP5cz8qmu/M208GCfzejHM3BEpl21V9T+3vHI5MrVXLi1BPSBQ4QSiCgMxO+rNXm78IqJEeBXrSiUCgvWLystkFXyQSRlBoal3iXf27t3rKx4hdQCHydIUEcX4K6XfRbUxipCqqv7n68xlEGBqT/+PwUEAAvYEok5VScnm9EOYmugF5mry5MlKphKLdevXr89MgQU/NSPpt2zZ4sumUaNGvrAbmDp1qurfv78bjHSMystkZU6tuJXYsGGDkmkqvZ+Ue0o98MADauzYsV7YdmqvVAxN2+vXr69uuukmz6ZCHpmmHTlyZFYUM7+siwVOVFK/M22Mm1mp+l+BpinNpTIQc1QBAhCoBgSijrCI6WH+atZrkzJbHch+PnG7Sl1sHuQwe/Zs3xSf/r6co9eFedFsR6S8jHJ4kmRo9pNiF4fnqKJ3ysxPP4F9zILhSu13po1xM8s1IipwS9n/vMatQg9Te1UIm6IgUJ0JxCWkWrVq5axcuTLrt2rVKmfHjh2JIkxSBAQrHpWX+WDM9yCTsq666iqfMGjXrp2ze/fuTDUQUgdaw2RZXfudaWNVCalS9r8DLVu1/yKkqpY3pUGg2hKIKgwESNw3+6iQq5OQkgX6ss7FHFmRz5uIQ0gd6CFp6Hdx22jmV0jIl6r/HWjZqv0XIVW1vCkNAtWWAEIqXNNG5VXsg0xqM2/ePKdGjRqemBL//PnzEVL/ayqTZRyjNeF6wP9jJyng47bRzK+QkBLrStH//k+16nwIqapjTUkQqNYEogoDgWLenKvrAy3Y+FF5mawO9iCTMkeNGuUJKRmdatmypdOkSRPvXPfu3YNVswpXqiiorv3O7C9x2GjmV479z6rzRkyMkIoIjmQQgICfQFRhILmYN+c4bvb+mhUfSlIEBGsRlZfJqpgH2a5duxz9lp4nnMypPvEjpA4sMq+u/c7sL3HYaOZXjv0v+P+sKsJsf6DvJDgIQMCeQNTX+aVk8xVtfbM/6M7m9rXNncMnn3yiXn755czFzp07q2HDhuWOGMPZqLxMVvpB5u1sXqhKS5YsUVKe3k8qK5oWUmrBggVZ56OeSJKhaXsc/STu/NLGrBz7X9Q2sEpXFWqNMiAAgepPIOoIi5Ax/8qN46/mSqAdlZfJqpgRAZfFuHHjco5KxT0i5ZaXxNG0PY5+End+Sdhsm2fcNpr5pa3/5WsLpvbykeE8BCAQikBUYSCFmDfnOB6QoSpeoshReZmswjzI9LcPHT3KliWmEFKln9pLsgua/SWO/1tmfmnrf/naCSGVjwznIQCBUASiCgMpxLw5x3GzD1XxEkWOystkFeZBJmbK9wr1h2t9YgohhZAK818gzf0vHyeEVD4ynIcABEIR6NGjh/eAlo/lhnENGzb00nbq1ClM0oqNG5WXyWrw4MGh7Z80aZLHWq8Lcc4999zQeZQqgWl7HP0k7vxKxaVQuXHbaOaXtv6XjzOLza1WmJEYAhCAAAQgAIE0E0BIpbn1sR0CEIAABCAAASsCCCkrfCSGAAQgAAEIQCDNBBBSaW59bIcABCAAAQhAwIoAQsoKH4khAAEIQAACEEgzAYRUmlsf2yEAAQhAAAIQsCKAkLLCR2IIQAACEIAABNJMACGV5tbHdghAAAIQgAAErAggpKzwkRgCEIAABCAAgTQTQEilufWxHQIQgAAEIAABKwIIKSt8JIYABCAAAQhAIM0EEFJpbn1shwAEIAABCEDAigBCygofiSEAAQhAAAIQSDMBhFSaWx/bIQABCEAAAhCwIoCQssJHYghAAAIQgAAE0kwAIZXm1sd2CEAAAhCAAASsCCCkrPCRGAIQgAAEIACBNBNASKW59bEdAhCAAAQgAAErAggpK3wkhgAEIAABCEAgzQQQUmlufWyHAAQgAAEIQMCKAELKCh+JIQABCEAAAhBIMwGEVJpbH9shAAEIQAACELAigJCywkdiCEAAAhCAAATSTAAhlebWx3YIQAACEIAABKwIIKSs8JEYAhCAAAQgAIE0E0BIpbn1sR0CEIAABCAAASsCCCkrfCSGAAQgAAEIQCDNBBBSaW59bIcABCAAAQhAwIoAQsoKH4khAAEIQAACEEgzAYRUmlsf2yEAAQhAAAIQsCKAkLLCR2IIQAACEIAABNJMACGV5tbHdghAAAIQgAAErAggpKzwkRgCEIAABCAAgTQTQEilufWxHQIQgAAEIAABKwIIKSt8JIYABCAAAQhAIM0EEFJpbn1shwAEIAABCEDAigBCygofiSEAAQhAAAIQSDMBhFSaWx/bIQABCEAAAhCwIoCQssJHYghAAAIQgAAE0kwAIZXm1sd2CEAAAhCAAASsCCCkrPCRGAIQgAAEIACBNBNASKW59bEdAhCAAAQgAAErAggpK3wkhgAEIAABCEAgzQQQUmlufWyHAAQgAAEIQMCKAELKCh+JIQABCEAAAhBIMwGEVJpbH9shAAEIQAACELAigJCywkdiCEAAAhCAAATSTAAhlebWx3YIQAACEIAABKwIIKSs8JEYAhCAAAQgAIE0E0BIpbn1sR0CEIAABCAAASsCCCkrfCSGAAQgAAEIQCDNBBBSaW59bIcABCAAAQhAwIoAQsoKH4khAAEIQAACEEgzAYRUmlsf2yEAAQhAAAIQsCKAkLLCR2IIQAACEIAABNJM4L/qRowaOSjdZgAAAABJRU5ErkJggg==)"
   ]
  },
  {
   "cell_type": "code",
   "execution_count": 24,
   "metadata": {},
   "outputs": [
    {
     "data": {
      "text/plain": [
       "0.8533042846768337"
      ]
     },
     "execution_count": 24,
     "metadata": {},
     "output_type": "execute_result"
    }
   ],
   "source": [
    "accuracy_score(y_test,y_pred)"
   ]
  },
  {
   "cell_type": "markdown",
   "metadata": {},
   "source": [
    "### Precision Score:\n",
    "![My Image](data:image/png;base64,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)"
   ]
  },
  {
   "cell_type": "code",
   "execution_count": 25,
   "metadata": {},
   "outputs": [
    {
     "data": {
      "text/plain": [
       "0.8408847663217981"
      ]
     },
     "execution_count": 25,
     "metadata": {},
     "output_type": "execute_result"
    }
   ],
   "source": [
    "precision_score(y_test,y_pred)"
   ]
  },
  {
   "cell_type": "markdown",
   "metadata": {},
   "source": [
    "### Recall Score:\n",
    "![My Image](data:image/png;base64,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\n",
    ")"
   ]
  },
  {
   "cell_type": "code",
   "execution_count": 26,
   "metadata": {},
   "outputs": [
    {
     "data": {
      "text/plain": [
       "0.8668628172122104"
      ]
     },
     "execution_count": 26,
     "metadata": {},
     "output_type": "execute_result"
    }
   ],
   "source": [
    "recall_score(y_test,y_pred)"
   ]
  },
  {
   "cell_type": "code",
   "execution_count": 27,
   "metadata": {},
   "outputs": [
    {
     "data": {
      "text/plain": [
       "0.8536762042738139"
      ]
     },
     "execution_count": 27,
     "metadata": {},
     "output_type": "execute_result"
    }
   ],
   "source": [
    "f1_score(y_test,y_pred)"
   ]
  },
  {
   "cell_type": "markdown",
   "metadata": {},
   "source": [
    "### واجهة المستخدم التفاعلية"
   ]
  },
  {
   "cell_type": "code",
   "execution_count": 28,
   "metadata": {},
   "outputs": [
    {
     "name": "stderr",
     "output_type": "stream",
     "text": [
      "C:\\Users\\USER\\AppData\\Roaming\\Python\\Python312\\site-packages\\tqdm\\auto.py:21: TqdmWarning: IProgress not found. Please update jupyter and ipywidgets. See https://ipywidgets.readthedocs.io/en/stable/user_install.html\n",
      "  from .autonotebook import tqdm as notebook_tqdm\n"
     ]
    }
   ],
   "source": [
    "import gradio as gr\n",
    "\n",
    "def predict_sentiment(review):\n",
    "    review_vectorized = vectorizer.transform([review])\n",
    "    prediction = model.predict(review_vectorized)[0]\n",
    "    labels_map = {0: \"سلبي\", 1: \"إيجابي\"}\n",
    "    return labels_map.get(prediction, \"غير معروف\")"
   ]
  },
  {
   "cell_type": "code",
   "execution_count": 29,
   "metadata": {},
   "outputs": [
    {
     "name": "stdout",
     "output_type": "stream",
     "text": [
      "* Running on local URL:  http://127.0.0.1:7860\n",
      "\n",
      "To create a public link, set `share=True` in `launch()`.\n"
     ]
    },
    {
     "data": {
      "text/html": [
       "<div><iframe src=\"http://127.0.0.1:7860/\" width=\"100%\" height=\"500\" allow=\"autoplay; camera; microphone; clipboard-read; clipboard-write;\" frameborder=\"0\" allowfullscreen></iframe></div>"
      ],
      "text/plain": [
       "<IPython.core.display.HTML object>"
      ]
     },
     "metadata": {},
     "output_type": "display_data"
    },
    {
     "data": {
      "text/plain": []
     },
     "execution_count": 29,
     "metadata": {},
     "output_type": "execute_result"
    }
   ],
   "source": [
    "# واجهة المستخدم التفاعلية\n",
    "interface = gr.Interface(\n",
    "    fn=predict_sentiment,\n",
    "    inputs=gr.Textbox(lines=3, placeholder=\"أدخل رأيك هنا...\"),\n",
    "    outputs=\"text\",\n",
    "    title=\"نموذج تصنيف آراء مستخدمين حول تطبيق مـــا\",\n",
    "    description=\"أدخل مراجعتك وسيقوم النموذج بتحديد ما إذا كانت إيجابية أو سلبية .\"\n",
    ")\n",
    "interface.launch()"
   ]
  }
 ],
 "metadata": {
  "kernelspec": {
   "display_name": "Python 3",
   "language": "python",
   "name": "python3"
  },
  "language_info": {
   "codemirror_mode": {
    "name": "ipython",
    "version": 3
   },
   "file_extension": ".py",
   "mimetype": "text/x-python",
   "name": "python",
   "nbconvert_exporter": "python",
   "pygments_lexer": "ipython3",
   "version": "3.12.0"
  }
 },
 "nbformat": 4,
 "nbformat_minor": 2
}
